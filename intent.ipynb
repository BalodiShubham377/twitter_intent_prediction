{
  "nbformat": 4,
  "nbformat_minor": 0,
  "metadata": {
    "colab": {
      "provenance": []
    },
    "kernelspec": {
      "name": "python3",
      "display_name": "Python 3"
    },
    "language_info": {
      "name": "python"
    }
  },
  "cells": [
    {
      "cell_type": "markdown",
      "source": [
        "#### Here we have imported the important libraries, which will help us in the creation of the model and cleaning of data."
      ],
      "metadata": {
        "id": "Ln444FgFBV1v"
      }
    },
    {
      "cell_type": "code",
      "execution_count": 2,
      "metadata": {
        "id": "OMPnvhIpTVZe"
      },
      "outputs": [],
      "source": [
        "import pandas as pd \n",
        "import numpy as np \n",
        "import matplotlib\n",
        "import matplotlib.pyplot as plt\n",
        "import seaborn as sns \n",
        "import plotly.express as px\n",
        "import re\n",
        "%matplotlib inline\n",
        "\n",
        "matplotlib.rcParams['figure.facecolor'] = '#ffffff'"
      ]
    },
    {
      "cell_type": "markdown",
      "source": [
        "### We will read the data using Pandas.\n",
        "\n"
      ],
      "metadata": {
        "id": "063ejfKRBcSw"
      }
    },
    {
      "cell_type": "code",
      "source": [
        "data = pd.read_csv(\"/content/Tweet_NFT.xlsx - Sheet1.csv\")"
      ],
      "metadata": {
        "id": "P5KOytM6VRLm"
      },
      "execution_count": 3,
      "outputs": []
    },
    {
      "cell_type": "code",
      "source": [
        "data "
      ],
      "metadata": {
        "colab": {
          "base_uri": "https://localhost:8080/",
          "height": 402
        },
        "id": "O2VUEC07VVHL",
        "outputId": "651db0bd-dd21-43f8-bc9a-dd0324218aa1"
      },
      "execution_count": 4,
      "outputs": [
        {
          "output_type": "execute_result",
          "data": {
            "text/plain": [
              "             id                                         tweet_text  \\\n",
              "0       1212762  @crypto_brody @eCoLoGy1990 @MoonrunnersNFT @It...   \n",
              "1       1212763  Need Sick Character artâ“#art #artist #Artist...   \n",
              "2       1212765  @The_Hulk_NFT @INagotchiNFT @Tesla @killabears...   \n",
              "3       1212766  @CryptoBatzNFT @DarekBTW The first project in ...   \n",
              "4       1212767  @sashadysonn The first project in crypto with ...   \n",
              "...         ...                                                ...   \n",
              "127448  1278721  @Jason My company Universe is solving this, an...   \n",
              "127449  1278723          @BosoTokyo Many will get rekt in this NFT   \n",
              "127450  1278724  @leeneedham81 @KibaInuWorld @HODL_OFFICIAL @Ko...   \n",
              "127451  1278725             @1kz3ro @UNLEASHED_NFT I love this job   \n",
              "127452  1278729  @Shill_Ronin @UNLEASHED_NFT my proof https://t...   \n",
              "\n",
              "                tweet_created_at  tweet_intent  \n",
              "0       2022-08-06T16:56:36.000Z     Community  \n",
              "1       2022-08-06T16:56:36.000Z      Giveaway  \n",
              "2       2022-08-06T16:56:35.000Z  Appreciation  \n",
              "3       2022-08-06T16:56:35.000Z     Community  \n",
              "4       2022-08-06T16:56:34.000Z     Community  \n",
              "...                          ...           ...  \n",
              "127448  2022-08-08T03:32:01.000Z           NaN  \n",
              "127449  2022-08-08T03:32:00.000Z           NaN  \n",
              "127450  2022-08-08T03:32:00.000Z           NaN  \n",
              "127451  2022-08-08T03:31:59.000Z           NaN  \n",
              "127452  2022-08-08T03:31:58.000Z           NaN  \n",
              "\n",
              "[127453 rows x 4 columns]"
            ],
            "text/html": [
              "\n",
              "  <div id=\"df-d4b839de-467a-4f0d-873e-120f0b44b956\">\n",
              "    <div class=\"colab-df-container\">\n",
              "      <div>\n",
              "<style scoped>\n",
              "    .dataframe tbody tr th:only-of-type {\n",
              "        vertical-align: middle;\n",
              "    }\n",
              "\n",
              "    .dataframe tbody tr th {\n",
              "        vertical-align: top;\n",
              "    }\n",
              "\n",
              "    .dataframe thead th {\n",
              "        text-align: right;\n",
              "    }\n",
              "</style>\n",
              "<table border=\"1\" class=\"dataframe\">\n",
              "  <thead>\n",
              "    <tr style=\"text-align: right;\">\n",
              "      <th></th>\n",
              "      <th>id</th>\n",
              "      <th>tweet_text</th>\n",
              "      <th>tweet_created_at</th>\n",
              "      <th>tweet_intent</th>\n",
              "    </tr>\n",
              "  </thead>\n",
              "  <tbody>\n",
              "    <tr>\n",
              "      <th>0</th>\n",
              "      <td>1212762</td>\n",
              "      <td>@crypto_brody @eCoLoGy1990 @MoonrunnersNFT @It...</td>\n",
              "      <td>2022-08-06T16:56:36.000Z</td>\n",
              "      <td>Community</td>\n",
              "    </tr>\n",
              "    <tr>\n",
              "      <th>1</th>\n",
              "      <td>1212763</td>\n",
              "      <td>Need Sick Character artâ“#art #artist #Artist...</td>\n",
              "      <td>2022-08-06T16:56:36.000Z</td>\n",
              "      <td>Giveaway</td>\n",
              "    </tr>\n",
              "    <tr>\n",
              "      <th>2</th>\n",
              "      <td>1212765</td>\n",
              "      <td>@The_Hulk_NFT @INagotchiNFT @Tesla @killabears...</td>\n",
              "      <td>2022-08-06T16:56:35.000Z</td>\n",
              "      <td>Appreciation</td>\n",
              "    </tr>\n",
              "    <tr>\n",
              "      <th>3</th>\n",
              "      <td>1212766</td>\n",
              "      <td>@CryptoBatzNFT @DarekBTW The first project in ...</td>\n",
              "      <td>2022-08-06T16:56:35.000Z</td>\n",
              "      <td>Community</td>\n",
              "    </tr>\n",
              "    <tr>\n",
              "      <th>4</th>\n",
              "      <td>1212767</td>\n",
              "      <td>@sashadysonn The first project in crypto with ...</td>\n",
              "      <td>2022-08-06T16:56:34.000Z</td>\n",
              "      <td>Community</td>\n",
              "    </tr>\n",
              "    <tr>\n",
              "      <th>...</th>\n",
              "      <td>...</td>\n",
              "      <td>...</td>\n",
              "      <td>...</td>\n",
              "      <td>...</td>\n",
              "    </tr>\n",
              "    <tr>\n",
              "      <th>127448</th>\n",
              "      <td>1278721</td>\n",
              "      <td>@Jason My company Universe is solving this, an...</td>\n",
              "      <td>2022-08-08T03:32:01.000Z</td>\n",
              "      <td>NaN</td>\n",
              "    </tr>\n",
              "    <tr>\n",
              "      <th>127449</th>\n",
              "      <td>1278723</td>\n",
              "      <td>@BosoTokyo Many will get rekt in this NFT</td>\n",
              "      <td>2022-08-08T03:32:00.000Z</td>\n",
              "      <td>NaN</td>\n",
              "    </tr>\n",
              "    <tr>\n",
              "      <th>127450</th>\n",
              "      <td>1278724</td>\n",
              "      <td>@leeneedham81 @KibaInuWorld @HODL_OFFICIAL @Ko...</td>\n",
              "      <td>2022-08-08T03:32:00.000Z</td>\n",
              "      <td>NaN</td>\n",
              "    </tr>\n",
              "    <tr>\n",
              "      <th>127451</th>\n",
              "      <td>1278725</td>\n",
              "      <td>@1kz3ro @UNLEASHED_NFT I love this job</td>\n",
              "      <td>2022-08-08T03:31:59.000Z</td>\n",
              "      <td>NaN</td>\n",
              "    </tr>\n",
              "    <tr>\n",
              "      <th>127452</th>\n",
              "      <td>1278729</td>\n",
              "      <td>@Shill_Ronin @UNLEASHED_NFT my proof https://t...</td>\n",
              "      <td>2022-08-08T03:31:58.000Z</td>\n",
              "      <td>NaN</td>\n",
              "    </tr>\n",
              "  </tbody>\n",
              "</table>\n",
              "<p>127453 rows × 4 columns</p>\n",
              "</div>\n",
              "      <button class=\"colab-df-convert\" onclick=\"convertToInteractive('df-d4b839de-467a-4f0d-873e-120f0b44b956')\"\n",
              "              title=\"Convert this dataframe to an interactive table.\"\n",
              "              style=\"display:none;\">\n",
              "        \n",
              "  <svg xmlns=\"http://www.w3.org/2000/svg\" height=\"24px\"viewBox=\"0 0 24 24\"\n",
              "       width=\"24px\">\n",
              "    <path d=\"M0 0h24v24H0V0z\" fill=\"none\"/>\n",
              "    <path d=\"M18.56 5.44l.94 2.06.94-2.06 2.06-.94-2.06-.94-.94-2.06-.94 2.06-2.06.94zm-11 1L8.5 8.5l.94-2.06 2.06-.94-2.06-.94L8.5 2.5l-.94 2.06-2.06.94zm10 10l.94 2.06.94-2.06 2.06-.94-2.06-.94-.94-2.06-.94 2.06-2.06.94z\"/><path d=\"M17.41 7.96l-1.37-1.37c-.4-.4-.92-.59-1.43-.59-.52 0-1.04.2-1.43.59L10.3 9.45l-7.72 7.72c-.78.78-.78 2.05 0 2.83L4 21.41c.39.39.9.59 1.41.59.51 0 1.02-.2 1.41-.59l7.78-7.78 2.81-2.81c.8-.78.8-2.07 0-2.86zM5.41 20L4 18.59l7.72-7.72 1.47 1.35L5.41 20z\"/>\n",
              "  </svg>\n",
              "      </button>\n",
              "      \n",
              "  <style>\n",
              "    .colab-df-container {\n",
              "      display:flex;\n",
              "      flex-wrap:wrap;\n",
              "      gap: 12px;\n",
              "    }\n",
              "\n",
              "    .colab-df-convert {\n",
              "      background-color: #E8F0FE;\n",
              "      border: none;\n",
              "      border-radius: 50%;\n",
              "      cursor: pointer;\n",
              "      display: none;\n",
              "      fill: #1967D2;\n",
              "      height: 32px;\n",
              "      padding: 0 0 0 0;\n",
              "      width: 32px;\n",
              "    }\n",
              "\n",
              "    .colab-df-convert:hover {\n",
              "      background-color: #E2EBFA;\n",
              "      box-shadow: 0px 1px 2px rgba(60, 64, 67, 0.3), 0px 1px 3px 1px rgba(60, 64, 67, 0.15);\n",
              "      fill: #174EA6;\n",
              "    }\n",
              "\n",
              "    [theme=dark] .colab-df-convert {\n",
              "      background-color: #3B4455;\n",
              "      fill: #D2E3FC;\n",
              "    }\n",
              "\n",
              "    [theme=dark] .colab-df-convert:hover {\n",
              "      background-color: #434B5C;\n",
              "      box-shadow: 0px 1px 3px 1px rgba(0, 0, 0, 0.15);\n",
              "      filter: drop-shadow(0px 1px 2px rgba(0, 0, 0, 0.3));\n",
              "      fill: #FFFFFF;\n",
              "    }\n",
              "  </style>\n",
              "\n",
              "      <script>\n",
              "        const buttonEl =\n",
              "          document.querySelector('#df-d4b839de-467a-4f0d-873e-120f0b44b956 button.colab-df-convert');\n",
              "        buttonEl.style.display =\n",
              "          google.colab.kernel.accessAllowed ? 'block' : 'none';\n",
              "\n",
              "        async function convertToInteractive(key) {\n",
              "          const element = document.querySelector('#df-d4b839de-467a-4f0d-873e-120f0b44b956');\n",
              "          const dataTable =\n",
              "            await google.colab.kernel.invokeFunction('convertToInteractive',\n",
              "                                                     [key], {});\n",
              "          if (!dataTable) return;\n",
              "\n",
              "          const docLinkHtml = 'Like what you see? Visit the ' +\n",
              "            '<a target=\"_blank\" href=https://colab.research.google.com/notebooks/data_table.ipynb>data table notebook</a>'\n",
              "            + ' to learn more about interactive tables.';\n",
              "          element.innerHTML = '';\n",
              "          dataTable['output_type'] = 'display_data';\n",
              "          await google.colab.output.renderOutput(dataTable, element);\n",
              "          const docLink = document.createElement('div');\n",
              "          docLink.innerHTML = docLinkHtml;\n",
              "          element.appendChild(docLink);\n",
              "        }\n",
              "      </script>\n",
              "    </div>\n",
              "  </div>\n",
              "  "
            ]
          },
          "metadata": {},
          "execution_count": 4
        }
      ]
    },
    {
      "cell_type": "markdown",
      "source": [
        "### We will analyse dataset"
      ],
      "metadata": {
        "id": "i3Bokqu6Bkla"
      }
    },
    {
      "cell_type": "code",
      "source": [
        "data.info()"
      ],
      "metadata": {
        "colab": {
          "base_uri": "https://localhost:8080/"
        },
        "id": "cIa0dQ8EVYI-",
        "outputId": "b23ce4e3-1b67-43af-c0fb-d0c1bbfad525"
      },
      "execution_count": 5,
      "outputs": [
        {
          "output_type": "stream",
          "name": "stdout",
          "text": [
            "<class 'pandas.core.frame.DataFrame'>\n",
            "RangeIndex: 127453 entries, 0 to 127452\n",
            "Data columns (total 4 columns):\n",
            " #   Column            Non-Null Count   Dtype \n",
            "---  ------            --------------   ----- \n",
            " 0   id                127453 non-null  int64 \n",
            " 1   tweet_text        127453 non-null  object\n",
            " 2   tweet_created_at  127453 non-null  object\n",
            " 3   tweet_intent      96364 non-null   object\n",
            "dtypes: int64(1), object(3)\n",
            "memory usage: 3.9+ MB\n"
          ]
        }
      ]
    },
    {
      "cell_type": "code",
      "source": [
        "data.isna().sum()"
      ],
      "metadata": {
        "colab": {
          "base_uri": "https://localhost:8080/"
        },
        "id": "NMOFwmEYVb_l",
        "outputId": "49fa6067-4712-4e18-c4b7-65ccfe551950"
      },
      "execution_count": 6,
      "outputs": [
        {
          "output_type": "execute_result",
          "data": {
            "text/plain": [
              "id                      0\n",
              "tweet_text              0\n",
              "tweet_created_at        0\n",
              "tweet_intent        31089\n",
              "dtype: int64"
            ]
          },
          "metadata": {},
          "execution_count": 6
        }
      ]
    },
    {
      "cell_type": "code",
      "source": [
        "data.shape"
      ],
      "metadata": {
        "colab": {
          "base_uri": "https://localhost:8080/"
        },
        "id": "i0OgTY6TVw4-",
        "outputId": "dd61349c-6874-43d3-8993-fc35cce6ff7f"
      },
      "execution_count": 7,
      "outputs": [
        {
          "output_type": "execute_result",
          "data": {
            "text/plain": [
              "(127453, 4)"
            ]
          },
          "metadata": {},
          "execution_count": 7
        }
      ]
    },
    {
      "cell_type": "code",
      "source": [
        "data.columns"
      ],
      "metadata": {
        "colab": {
          "base_uri": "https://localhost:8080/"
        },
        "id": "RSRH_-BNWBLd",
        "outputId": "4eb69822-167e-4ccb-b3d5-f06196067bd9"
      },
      "execution_count": 8,
      "outputs": [
        {
          "output_type": "execute_result",
          "data": {
            "text/plain": [
              "Index(['id', 'tweet_text', 'tweet_created_at', 'tweet_intent'], dtype='object')"
            ]
          },
          "metadata": {},
          "execution_count": 8
        }
      ]
    },
    {
      "cell_type": "markdown",
      "source": [
        "### We will drop null values from dataset"
      ],
      "metadata": {
        "id": "D5sZs_p7B2Du"
      }
    },
    {
      "cell_type": "code",
      "source": [
        "data.dropna(subset=['tweet_text', 'tweet_intent'], inplace=True)"
      ],
      "metadata": {
        "id": "0X5cCwXRWErm"
      },
      "execution_count": 9,
      "outputs": []
    },
    {
      "cell_type": "code",
      "source": [
        "data[\"tweet_intent\"].value_counts()"
      ],
      "metadata": {
        "colab": {
          "base_uri": "https://localhost:8080/"
        },
        "id": "-R3AsMi2WH-l",
        "outputId": "552be19b-d6e4-432a-8cb8-94a5c6327356"
      },
      "execution_count": 10,
      "outputs": [
        {
          "output_type": "execute_result",
          "data": {
            "text/plain": [
              "Community         41510\n",
              "Giveaway          21041\n",
              "Appreciation      16451\n",
              "Whitelist          8320\n",
              "Presale            5107\n",
              "Done               3049\n",
              "pinksale            477\n",
              "Interested          276\n",
              "Launching Soon      133\n",
              "Name: tweet_intent, dtype: int64"
            ]
          },
          "metadata": {},
          "execution_count": 10
        }
      ]
    },
    {
      "cell_type": "markdown",
      "source": [
        "###  Keeping only the neccessary columns"
      ],
      "metadata": {
        "id": "mTS1_T1cCBBw"
      }
    },
    {
      "cell_type": "code",
      "source": [
        "\n",
        "data = data[['tweet_text','tweet_intent']]\n"
      ],
      "metadata": {
        "id": "we77aTNHWNbV"
      },
      "execution_count": 11,
      "outputs": []
    },
    {
      "cell_type": "code",
      "source": [
        "data"
      ],
      "metadata": {
        "colab": {
          "base_uri": "https://localhost:8080/",
          "height": 402
        },
        "id": "NK4ZpQJhWZZ9",
        "outputId": "90334cf6-254a-40b9-c593-d902391c323a"
      },
      "execution_count": 12,
      "outputs": [
        {
          "output_type": "execute_result",
          "data": {
            "text/plain": [
              "                                              tweet_text  tweet_intent\n",
              "0      @crypto_brody @eCoLoGy1990 @MoonrunnersNFT @It...     Community\n",
              "1      Need Sick Character artâ“#art #artist #Artist...      Giveaway\n",
              "2      @The_Hulk_NFT @INagotchiNFT @Tesla @killabears...  Appreciation\n",
              "3      @CryptoBatzNFT @DarekBTW The first project in ...     Community\n",
              "4      @sashadysonn The first project in crypto with ...     Community\n",
              "...                                                  ...           ...\n",
              "96359  @nft_cryptogang @liuyan93721534 0x9fE808D8a9E2...  Appreciation\n",
              "96360  Just registered to win @cryptopunksnfts #1859 ...       Presale\n",
              "96361  @SolSniffer Dyor on the nft collection \"Dictat...  Appreciation\n",
              "96362  #NFT #NFTCommmunity #DeltaFlare\\nJoin me on Di...     Community\n",
              "96363  @DuckBathing @diozoth @elonmusk @richerd @John...  Appreciation\n",
              "\n",
              "[96364 rows x 2 columns]"
            ],
            "text/html": [
              "\n",
              "  <div id=\"df-8aabae8a-376d-46ff-a710-95c4d198124e\">\n",
              "    <div class=\"colab-df-container\">\n",
              "      <div>\n",
              "<style scoped>\n",
              "    .dataframe tbody tr th:only-of-type {\n",
              "        vertical-align: middle;\n",
              "    }\n",
              "\n",
              "    .dataframe tbody tr th {\n",
              "        vertical-align: top;\n",
              "    }\n",
              "\n",
              "    .dataframe thead th {\n",
              "        text-align: right;\n",
              "    }\n",
              "</style>\n",
              "<table border=\"1\" class=\"dataframe\">\n",
              "  <thead>\n",
              "    <tr style=\"text-align: right;\">\n",
              "      <th></th>\n",
              "      <th>tweet_text</th>\n",
              "      <th>tweet_intent</th>\n",
              "    </tr>\n",
              "  </thead>\n",
              "  <tbody>\n",
              "    <tr>\n",
              "      <th>0</th>\n",
              "      <td>@crypto_brody @eCoLoGy1990 @MoonrunnersNFT @It...</td>\n",
              "      <td>Community</td>\n",
              "    </tr>\n",
              "    <tr>\n",
              "      <th>1</th>\n",
              "      <td>Need Sick Character artâ“#art #artist #Artist...</td>\n",
              "      <td>Giveaway</td>\n",
              "    </tr>\n",
              "    <tr>\n",
              "      <th>2</th>\n",
              "      <td>@The_Hulk_NFT @INagotchiNFT @Tesla @killabears...</td>\n",
              "      <td>Appreciation</td>\n",
              "    </tr>\n",
              "    <tr>\n",
              "      <th>3</th>\n",
              "      <td>@CryptoBatzNFT @DarekBTW The first project in ...</td>\n",
              "      <td>Community</td>\n",
              "    </tr>\n",
              "    <tr>\n",
              "      <th>4</th>\n",
              "      <td>@sashadysonn The first project in crypto with ...</td>\n",
              "      <td>Community</td>\n",
              "    </tr>\n",
              "    <tr>\n",
              "      <th>...</th>\n",
              "      <td>...</td>\n",
              "      <td>...</td>\n",
              "    </tr>\n",
              "    <tr>\n",
              "      <th>96359</th>\n",
              "      <td>@nft_cryptogang @liuyan93721534 0x9fE808D8a9E2...</td>\n",
              "      <td>Appreciation</td>\n",
              "    </tr>\n",
              "    <tr>\n",
              "      <th>96360</th>\n",
              "      <td>Just registered to win @cryptopunksnfts #1859 ...</td>\n",
              "      <td>Presale</td>\n",
              "    </tr>\n",
              "    <tr>\n",
              "      <th>96361</th>\n",
              "      <td>@SolSniffer Dyor on the nft collection \"Dictat...</td>\n",
              "      <td>Appreciation</td>\n",
              "    </tr>\n",
              "    <tr>\n",
              "      <th>96362</th>\n",
              "      <td>#NFT #NFTCommmunity #DeltaFlare\\nJoin me on Di...</td>\n",
              "      <td>Community</td>\n",
              "    </tr>\n",
              "    <tr>\n",
              "      <th>96363</th>\n",
              "      <td>@DuckBathing @diozoth @elonmusk @richerd @John...</td>\n",
              "      <td>Appreciation</td>\n",
              "    </tr>\n",
              "  </tbody>\n",
              "</table>\n",
              "<p>96364 rows × 2 columns</p>\n",
              "</div>\n",
              "      <button class=\"colab-df-convert\" onclick=\"convertToInteractive('df-8aabae8a-376d-46ff-a710-95c4d198124e')\"\n",
              "              title=\"Convert this dataframe to an interactive table.\"\n",
              "              style=\"display:none;\">\n",
              "        \n",
              "  <svg xmlns=\"http://www.w3.org/2000/svg\" height=\"24px\"viewBox=\"0 0 24 24\"\n",
              "       width=\"24px\">\n",
              "    <path d=\"M0 0h24v24H0V0z\" fill=\"none\"/>\n",
              "    <path d=\"M18.56 5.44l.94 2.06.94-2.06 2.06-.94-2.06-.94-.94-2.06-.94 2.06-2.06.94zm-11 1L8.5 8.5l.94-2.06 2.06-.94-2.06-.94L8.5 2.5l-.94 2.06-2.06.94zm10 10l.94 2.06.94-2.06 2.06-.94-2.06-.94-.94-2.06-.94 2.06-2.06.94z\"/><path d=\"M17.41 7.96l-1.37-1.37c-.4-.4-.92-.59-1.43-.59-.52 0-1.04.2-1.43.59L10.3 9.45l-7.72 7.72c-.78.78-.78 2.05 0 2.83L4 21.41c.39.39.9.59 1.41.59.51 0 1.02-.2 1.41-.59l7.78-7.78 2.81-2.81c.8-.78.8-2.07 0-2.86zM5.41 20L4 18.59l7.72-7.72 1.47 1.35L5.41 20z\"/>\n",
              "  </svg>\n",
              "      </button>\n",
              "      \n",
              "  <style>\n",
              "    .colab-df-container {\n",
              "      display:flex;\n",
              "      flex-wrap:wrap;\n",
              "      gap: 12px;\n",
              "    }\n",
              "\n",
              "    .colab-df-convert {\n",
              "      background-color: #E8F0FE;\n",
              "      border: none;\n",
              "      border-radius: 50%;\n",
              "      cursor: pointer;\n",
              "      display: none;\n",
              "      fill: #1967D2;\n",
              "      height: 32px;\n",
              "      padding: 0 0 0 0;\n",
              "      width: 32px;\n",
              "    }\n",
              "\n",
              "    .colab-df-convert:hover {\n",
              "      background-color: #E2EBFA;\n",
              "      box-shadow: 0px 1px 2px rgba(60, 64, 67, 0.3), 0px 1px 3px 1px rgba(60, 64, 67, 0.15);\n",
              "      fill: #174EA6;\n",
              "    }\n",
              "\n",
              "    [theme=dark] .colab-df-convert {\n",
              "      background-color: #3B4455;\n",
              "      fill: #D2E3FC;\n",
              "    }\n",
              "\n",
              "    [theme=dark] .colab-df-convert:hover {\n",
              "      background-color: #434B5C;\n",
              "      box-shadow: 0px 1px 3px 1px rgba(0, 0, 0, 0.15);\n",
              "      filter: drop-shadow(0px 1px 2px rgba(0, 0, 0, 0.3));\n",
              "      fill: #FFFFFF;\n",
              "    }\n",
              "  </style>\n",
              "\n",
              "      <script>\n",
              "        const buttonEl =\n",
              "          document.querySelector('#df-8aabae8a-376d-46ff-a710-95c4d198124e button.colab-df-convert');\n",
              "        buttonEl.style.display =\n",
              "          google.colab.kernel.accessAllowed ? 'block' : 'none';\n",
              "\n",
              "        async function convertToInteractive(key) {\n",
              "          const element = document.querySelector('#df-8aabae8a-376d-46ff-a710-95c4d198124e');\n",
              "          const dataTable =\n",
              "            await google.colab.kernel.invokeFunction('convertToInteractive',\n",
              "                                                     [key], {});\n",
              "          if (!dataTable) return;\n",
              "\n",
              "          const docLinkHtml = 'Like what you see? Visit the ' +\n",
              "            '<a target=\"_blank\" href=https://colab.research.google.com/notebooks/data_table.ipynb>data table notebook</a>'\n",
              "            + ' to learn more about interactive tables.';\n",
              "          element.innerHTML = '';\n",
              "          dataTable['output_type'] = 'display_data';\n",
              "          await google.colab.output.renderOutput(dataTable, element);\n",
              "          const docLink = document.createElement('div');\n",
              "          docLink.innerHTML = docLinkHtml;\n",
              "          element.appendChild(docLink);\n",
              "        }\n",
              "      </script>\n",
              "    </div>\n",
              "  </div>\n",
              "  "
            ]
          },
          "metadata": {},
          "execution_count": 12
        }
      ]
    },
    {
      "cell_type": "markdown",
      "source": [
        "#### We will create a function to remove unwanted characters in Tweets using Regex."
      ],
      "metadata": {
        "id": "MEdgdEWKCIx4"
      }
    },
    {
      "cell_type": "code",
      "source": [
        "def preProcess_data(text):\n",
        "   text = text.lower()\n",
        "   new_text = re.sub('[^a-zA-z0-9\\s]','',text)\n",
        "   new_text = re.sub('rt', '', new_text)\n",
        "   return new_text\n",
        "\n",
        "data['tweet_text'] = data['tweet_text'].apply(preProcess_data)"
      ],
      "metadata": {
        "colab": {
          "base_uri": "https://localhost:8080/"
        },
        "id": "wAiUVqb_Wavk",
        "outputId": "0f91f004-c476-4e92-dd00-335d5451529f"
      },
      "execution_count": 13,
      "outputs": [
        {
          "output_type": "stream",
          "name": "stderr",
          "text": [
            "/usr/local/lib/python3.7/dist-packages/ipykernel_launcher.py:7: SettingWithCopyWarning: \n",
            "A value is trying to be set on a copy of a slice from a DataFrame.\n",
            "Try using .loc[row_indexer,col_indexer] = value instead\n",
            "\n",
            "See the caveats in the documentation: https://pandas.pydata.org/pandas-docs/stable/user_guide/indexing.html#returning-a-view-versus-a-copy\n",
            "  import sys\n"
          ]
        }
      ]
    },
    {
      "cell_type": "code",
      "source": [
        "data"
      ],
      "metadata": {
        "colab": {
          "base_uri": "https://localhost:8080/",
          "height": 402
        },
        "id": "ZLbJR-NwWys-",
        "outputId": "d8ec6f5d-9f1d-42b5-ed1d-4dc18e9951a0"
      },
      "execution_count": 14,
      "outputs": [
        {
          "output_type": "execute_result",
          "data": {
            "text/plain": [
              "                                              tweet_text  tweet_intent\n",
              "0      crypto_brody ecology1990 moonrunnersnft itsuki...     Community\n",
              "1      need sick character aa aist aists animation il...      Giveaway\n",
              "2      the_hulk_nft inagotchinft tesla killabearsnft ...  Appreciation\n",
              "3      cryptobatznft darekbtw the first project in cr...     Community\n",
              "4      sashadysonn the first project in crypto with m...     Community\n",
              "...                                                  ...           ...\n",
              "96359  nft_cryptogang liuyan93721534 0x9fe808d8a9e2e3...  Appreciation\n",
              "96360  just registered to win cryptopunksnfts 1859 wi...       Presale\n",
              "96361  solsniffer dyor on the nft collection dictator...  Appreciation\n",
              "96362  nft nftcommmunity deltaflare\\njoin me on disco...     Community\n",
              "96363  duckbathing diozoth elonmusk richerd john_nft2...  Appreciation\n",
              "\n",
              "[96364 rows x 2 columns]"
            ],
            "text/html": [
              "\n",
              "  <div id=\"df-cf9455e8-25d4-4f7c-a2d1-5610604ece3f\">\n",
              "    <div class=\"colab-df-container\">\n",
              "      <div>\n",
              "<style scoped>\n",
              "    .dataframe tbody tr th:only-of-type {\n",
              "        vertical-align: middle;\n",
              "    }\n",
              "\n",
              "    .dataframe tbody tr th {\n",
              "        vertical-align: top;\n",
              "    }\n",
              "\n",
              "    .dataframe thead th {\n",
              "        text-align: right;\n",
              "    }\n",
              "</style>\n",
              "<table border=\"1\" class=\"dataframe\">\n",
              "  <thead>\n",
              "    <tr style=\"text-align: right;\">\n",
              "      <th></th>\n",
              "      <th>tweet_text</th>\n",
              "      <th>tweet_intent</th>\n",
              "    </tr>\n",
              "  </thead>\n",
              "  <tbody>\n",
              "    <tr>\n",
              "      <th>0</th>\n",
              "      <td>crypto_brody ecology1990 moonrunnersnft itsuki...</td>\n",
              "      <td>Community</td>\n",
              "    </tr>\n",
              "    <tr>\n",
              "      <th>1</th>\n",
              "      <td>need sick character aa aist aists animation il...</td>\n",
              "      <td>Giveaway</td>\n",
              "    </tr>\n",
              "    <tr>\n",
              "      <th>2</th>\n",
              "      <td>the_hulk_nft inagotchinft tesla killabearsnft ...</td>\n",
              "      <td>Appreciation</td>\n",
              "    </tr>\n",
              "    <tr>\n",
              "      <th>3</th>\n",
              "      <td>cryptobatznft darekbtw the first project in cr...</td>\n",
              "      <td>Community</td>\n",
              "    </tr>\n",
              "    <tr>\n",
              "      <th>4</th>\n",
              "      <td>sashadysonn the first project in crypto with m...</td>\n",
              "      <td>Community</td>\n",
              "    </tr>\n",
              "    <tr>\n",
              "      <th>...</th>\n",
              "      <td>...</td>\n",
              "      <td>...</td>\n",
              "    </tr>\n",
              "    <tr>\n",
              "      <th>96359</th>\n",
              "      <td>nft_cryptogang liuyan93721534 0x9fe808d8a9e2e3...</td>\n",
              "      <td>Appreciation</td>\n",
              "    </tr>\n",
              "    <tr>\n",
              "      <th>96360</th>\n",
              "      <td>just registered to win cryptopunksnfts 1859 wi...</td>\n",
              "      <td>Presale</td>\n",
              "    </tr>\n",
              "    <tr>\n",
              "      <th>96361</th>\n",
              "      <td>solsniffer dyor on the nft collection dictator...</td>\n",
              "      <td>Appreciation</td>\n",
              "    </tr>\n",
              "    <tr>\n",
              "      <th>96362</th>\n",
              "      <td>nft nftcommmunity deltaflare\\njoin me on disco...</td>\n",
              "      <td>Community</td>\n",
              "    </tr>\n",
              "    <tr>\n",
              "      <th>96363</th>\n",
              "      <td>duckbathing diozoth elonmusk richerd john_nft2...</td>\n",
              "      <td>Appreciation</td>\n",
              "    </tr>\n",
              "  </tbody>\n",
              "</table>\n",
              "<p>96364 rows × 2 columns</p>\n",
              "</div>\n",
              "      <button class=\"colab-df-convert\" onclick=\"convertToInteractive('df-cf9455e8-25d4-4f7c-a2d1-5610604ece3f')\"\n",
              "              title=\"Convert this dataframe to an interactive table.\"\n",
              "              style=\"display:none;\">\n",
              "        \n",
              "  <svg xmlns=\"http://www.w3.org/2000/svg\" height=\"24px\"viewBox=\"0 0 24 24\"\n",
              "       width=\"24px\">\n",
              "    <path d=\"M0 0h24v24H0V0z\" fill=\"none\"/>\n",
              "    <path d=\"M18.56 5.44l.94 2.06.94-2.06 2.06-.94-2.06-.94-.94-2.06-.94 2.06-2.06.94zm-11 1L8.5 8.5l.94-2.06 2.06-.94-2.06-.94L8.5 2.5l-.94 2.06-2.06.94zm10 10l.94 2.06.94-2.06 2.06-.94-2.06-.94-.94-2.06-.94 2.06-2.06.94z\"/><path d=\"M17.41 7.96l-1.37-1.37c-.4-.4-.92-.59-1.43-.59-.52 0-1.04.2-1.43.59L10.3 9.45l-7.72 7.72c-.78.78-.78 2.05 0 2.83L4 21.41c.39.39.9.59 1.41.59.51 0 1.02-.2 1.41-.59l7.78-7.78 2.81-2.81c.8-.78.8-2.07 0-2.86zM5.41 20L4 18.59l7.72-7.72 1.47 1.35L5.41 20z\"/>\n",
              "  </svg>\n",
              "      </button>\n",
              "      \n",
              "  <style>\n",
              "    .colab-df-container {\n",
              "      display:flex;\n",
              "      flex-wrap:wrap;\n",
              "      gap: 12px;\n",
              "    }\n",
              "\n",
              "    .colab-df-convert {\n",
              "      background-color: #E8F0FE;\n",
              "      border: none;\n",
              "      border-radius: 50%;\n",
              "      cursor: pointer;\n",
              "      display: none;\n",
              "      fill: #1967D2;\n",
              "      height: 32px;\n",
              "      padding: 0 0 0 0;\n",
              "      width: 32px;\n",
              "    }\n",
              "\n",
              "    .colab-df-convert:hover {\n",
              "      background-color: #E2EBFA;\n",
              "      box-shadow: 0px 1px 2px rgba(60, 64, 67, 0.3), 0px 1px 3px 1px rgba(60, 64, 67, 0.15);\n",
              "      fill: #174EA6;\n",
              "    }\n",
              "\n",
              "    [theme=dark] .colab-df-convert {\n",
              "      background-color: #3B4455;\n",
              "      fill: #D2E3FC;\n",
              "    }\n",
              "\n",
              "    [theme=dark] .colab-df-convert:hover {\n",
              "      background-color: #434B5C;\n",
              "      box-shadow: 0px 1px 3px 1px rgba(0, 0, 0, 0.15);\n",
              "      filter: drop-shadow(0px 1px 2px rgba(0, 0, 0, 0.3));\n",
              "      fill: #FFFFFF;\n",
              "    }\n",
              "  </style>\n",
              "\n",
              "      <script>\n",
              "        const buttonEl =\n",
              "          document.querySelector('#df-cf9455e8-25d4-4f7c-a2d1-5610604ece3f button.colab-df-convert');\n",
              "        buttonEl.style.display =\n",
              "          google.colab.kernel.accessAllowed ? 'block' : 'none';\n",
              "\n",
              "        async function convertToInteractive(key) {\n",
              "          const element = document.querySelector('#df-cf9455e8-25d4-4f7c-a2d1-5610604ece3f');\n",
              "          const dataTable =\n",
              "            await google.colab.kernel.invokeFunction('convertToInteractive',\n",
              "                                                     [key], {});\n",
              "          if (!dataTable) return;\n",
              "\n",
              "          const docLinkHtml = 'Like what you see? Visit the ' +\n",
              "            '<a target=\"_blank\" href=https://colab.research.google.com/notebooks/data_table.ipynb>data table notebook</a>'\n",
              "            + ' to learn more about interactive tables.';\n",
              "          element.innerHTML = '';\n",
              "          dataTable['output_type'] = 'display_data';\n",
              "          await google.colab.output.renderOutput(dataTable, element);\n",
              "          const docLink = document.createElement('div');\n",
              "          docLink.innerHTML = docLinkHtml;\n",
              "          element.appendChild(docLink);\n",
              "        }\n",
              "      </script>\n",
              "    </div>\n",
              "  </div>\n",
              "  "
            ]
          },
          "metadata": {},
          "execution_count": 14
        }
      ]
    },
    {
      "cell_type": "markdown",
      "source": [
        "### We will use Tensorflow’s tokenizer to tokenize our dataset, and Tensorflow’s pad_sequences to pad our sequences."
      ],
      "metadata": {
        "id": "qGt9hJLECMAS"
      }
    },
    {
      "cell_type": "code",
      "source": [
        "from tensorflow.keras.preprocessing.text import Tokenizer\n",
        "from tensorflow.keras.preprocessing.sequence import pad_sequences\n",
        "from tensorflow.keras.models import Sequential\n",
        "from tensorflow.keras.layers import Dense, Embedding, LSTM, SpatialDropout1D,Bidirectional\n",
        "from sklearn.model_selection import train_test_split"
      ],
      "metadata": {
        "id": "vsTgY8yMXMXE"
      },
      "execution_count": 15,
      "outputs": []
    },
    {
      "cell_type": "code",
      "source": [
        "max_fatures = 2000\n",
        "\n",
        "tokenizer = Tokenizer(num_words=max_fatures, split=' ')\n",
        "tokenizer.fit_on_texts(data['tweet_text'].values)\n",
        "X = tokenizer.texts_to_sequences(data['tweet_text'].values)\n",
        "X = pad_sequences(X, 28) \n",
        "\n",
        "Y = pd.get_dummies(data['tweet_intent']).values\n"
      ],
      "metadata": {
        "id": "WbYY_9pAXU8o"
      },
      "execution_count": 16,
      "outputs": []
    },
    {
      "cell_type": "markdown",
      "source": [
        "### Now we will split the dataset into training and testing portions."
      ],
      "metadata": {
        "id": "-1OxS3QoCTqE"
      }
    },
    {
      "cell_type": "code",
      "source": [
        "X_train, X_test, Y_train, Y_test = train_test_split(X,Y, test_size = 0.33, random_state = 42)\n",
        "print(X_train.shape,Y_train.shape)\n",
        "print(X_test.shape,Y_test.shape)"
      ],
      "metadata": {
        "colab": {
          "base_uri": "https://localhost:8080/"
        },
        "id": "Lm_hz9aJXtHs",
        "outputId": "b48b1616-b5a3-4497-941a-15ea1915dd4f"
      },
      "execution_count": 17,
      "outputs": [
        {
          "output_type": "stream",
          "name": "stdout",
          "text": [
            "(64563, 28) (64563, 9)\n",
            "(31801, 28) (31801, 9)\n"
          ]
        }
      ]
    },
    {
      "cell_type": "markdown",
      "source": [
        "#### It is now time to design and create the deep learning model. We will simply use an embedding layer and some LSTM layers with dropout."
      ],
      "metadata": {
        "id": "va-MaOjZCd40"
      }
    },
    {
      "cell_type": "markdown",
      "source": [
        "#### I compose the LSTM Network. Note that embed_dim, lstm_out, batch_size, droupout_x variables are hyperparameters, their values are somehow intuitive, can be and must be played with in order to achieve good results. Please also note that I am using softmax as activation function. The reason is that our Network is using categorical crossentropy, and softmax is just the right activation method for that."
      ],
      "metadata": {
        "id": "E_IyHxeWDCJU"
      }
    },
    {
      "cell_type": "code",
      "source": [
        "embed_dim = 128\n",
        "lstm_out = 196\n",
        "\n",
        "model = Sequential()\n",
        "model.add(Embedding(max_fatures, embed_dim,input_length = X.shape[1]))\n",
        "model.add(SpatialDropout1D(0.4))\n",
        "model.add(LSTM(lstm_out, dropout=0.2, recurrent_dropout=0.2))\n",
        "model.add(Dense(9,activation='softmax'))\n",
        "model.compile(loss = 'categorical_crossentropy', optimizer='adam',metrics = ['accuracy'])\n",
        "print(model.summary())"
      ],
      "metadata": {
        "colab": {
          "base_uri": "https://localhost:8080/"
        },
        "id": "PGAQwresW5FV",
        "outputId": "eac50a3d-0f11-4514-942b-432e71d50446"
      },
      "execution_count": 18,
      "outputs": [
        {
          "output_type": "stream",
          "name": "stdout",
          "text": [
            "Model: \"sequential\"\n",
            "_________________________________________________________________\n",
            " Layer (type)                Output Shape              Param #   \n",
            "=================================================================\n",
            " embedding (Embedding)       (None, 28, 128)           256000    \n",
            "                                                                 \n",
            " spatial_dropout1d (SpatialD  (None, 28, 128)          0         \n",
            " ropout1D)                                                       \n",
            "                                                                 \n",
            " lstm (LSTM)                 (None, 196)               254800    \n",
            "                                                                 \n",
            " dense (Dense)               (None, 9)                 1773      \n",
            "                                                                 \n",
            "=================================================================\n",
            "Total params: 512,573\n",
            "Trainable params: 512,573\n",
            "Non-trainable params: 0\n",
            "_________________________________________________________________\n",
            "None\n"
          ]
        }
      ]
    },
    {
      "cell_type": "markdown",
      "source": [
        "#### We will now fit the model."
      ],
      "metadata": {
        "id": "P8VfCN61Ckg7"
      }
    },
    {
      "cell_type": "code",
      "source": [
        "batch_size = 512\n",
        "\n",
        "history = model.fit(X_train, Y_train, epochs = 10, batch_size=batch_size, validation_data=(X_test, Y_test))\n"
      ],
      "metadata": {
        "colab": {
          "base_uri": "https://localhost:8080/"
        },
        "id": "7aSHAGfWXFyN",
        "outputId": "54f38e51-47e0-45d8-99c3-4f9845bc42b1"
      },
      "execution_count": 19,
      "outputs": [
        {
          "output_type": "stream",
          "name": "stdout",
          "text": [
            "Epoch 1/10\n",
            "127/127 [==============================] - 142s 1s/step - loss: 0.8083 - accuracy: 0.7321 - val_loss: 0.2520 - val_accuracy: 0.9290\n",
            "Epoch 2/10\n",
            "127/127 [==============================] - 126s 989ms/step - loss: 0.1965 - accuracy: 0.9466 - val_loss: 0.1834 - val_accuracy: 0.9512\n",
            "Epoch 3/10\n",
            "127/127 [==============================] - 128s 1s/step - loss: 0.1456 - accuracy: 0.9604 - val_loss: 0.1469 - val_accuracy: 0.9581\n",
            "Epoch 4/10\n",
            "127/127 [==============================] - 130s 1s/step - loss: 0.1257 - accuracy: 0.9666 - val_loss: 0.1332 - val_accuracy: 0.9644\n",
            "Epoch 5/10\n",
            "127/127 [==============================] - 129s 1s/step - loss: 0.1142 - accuracy: 0.9701 - val_loss: 0.1282 - val_accuracy: 0.9653\n",
            "Epoch 6/10\n",
            "127/127 [==============================] - 130s 1s/step - loss: 0.1054 - accuracy: 0.9726 - val_loss: 0.1270 - val_accuracy: 0.9662\n",
            "Epoch 7/10\n",
            "127/127 [==============================] - 128s 1s/step - loss: 0.1016 - accuracy: 0.9731 - val_loss: 0.1294 - val_accuracy: 0.9657\n",
            "Epoch 8/10\n",
            "127/127 [==============================] - 128s 1s/step - loss: 0.0985 - accuracy: 0.9742 - val_loss: 0.1259 - val_accuracy: 0.9665\n",
            "Epoch 9/10\n",
            "127/127 [==============================] - 156s 1s/step - loss: 0.0956 - accuracy: 0.9752 - val_loss: 0.1292 - val_accuracy: 0.9661\n",
            "Epoch 10/10\n",
            "127/127 [==============================] - 130s 1s/step - loss: 0.0934 - accuracy: 0.9758 - val_loss: 0.1254 - val_accuracy: 0.9666\n"
          ]
        }
      ]
    },
    {
      "cell_type": "markdown",
      "source": [
        "### Now the deep learning model is trained, we will save the model so that we do not have to train every time . Instead, we just use the trained model."
      ],
      "metadata": {
        "id": "XDogheZXCvnz"
      }
    },
    {
      "cell_type": "code",
      "source": [
        "model.save(\"intent.h5\")"
      ],
      "metadata": {
        "id": "BMdl3re-eGLl"
      },
      "execution_count": 21,
      "outputs": []
    },
    {
      "cell_type": "markdown",
      "source": [
        "#### Extracting a validation set, and measuring score and accuracy."
      ],
      "metadata": {
        "id": "z5FnbSSBDQhM"
      }
    },
    {
      "cell_type": "code",
      "source": [
        "validation_size = 1500\n",
        "\n",
        "X_validate = X_test[-validation_size:]\n",
        "Y_validate = Y_test[-validation_size:]\n",
        "X_test = X_test[:-validation_size]\n",
        "Y_test = Y_test[:-validation_size]\n",
        "score,acc = model.evaluate(X_test, Y_test, verbose = 2, batch_size = batch_size)\n",
        "print(\"score: %.2f\" % (score))\n",
        "print(\"acc: %.2f\" % (acc))"
      ],
      "metadata": {
        "id": "lp93OlWiYD73",
        "colab": {
          "base_uri": "https://localhost:8080/"
        },
        "outputId": "4a68bfae-c6c8-45bb-fa6c-de4211b0311c"
      },
      "execution_count": 22,
      "outputs": [
        {
          "output_type": "stream",
          "name": "stdout",
          "text": [
            "60/60 - 13s - loss: 0.1253 - accuracy: 0.9665 - 13s/epoch - 217ms/step\n",
            "score: 0.13\n",
            "acc: 0.97\n"
          ]
        }
      ]
    },
    {
      "cell_type": "code",
      "source": [
        "print(history.history.keys())"
      ],
      "metadata": {
        "colab": {
          "base_uri": "https://localhost:8080/"
        },
        "id": "iYu5kfJDt7l2",
        "outputId": "92ccad07-97e1-4535-d731-f30cd03d1383"
      },
      "execution_count": 23,
      "outputs": [
        {
          "output_type": "stream",
          "name": "stdout",
          "text": [
            "dict_keys(['loss', 'accuracy', 'val_loss', 'val_accuracy'])\n"
          ]
        }
      ]
    },
    {
      "cell_type": "code",
      "source": [
        "plt.plot(history.history['loss'])\n",
        "#plt.plot(history.history['accuracy'])\n",
        "plt.title('model loss')\n",
        "\n",
        "plt.ylabel('loss')\n",
        "plt.xlabel('epoch')\n",
        "#plt.legend([', 'test'], loc='upper left')\n",
        "plt.show()\n"
      ],
      "metadata": {
        "colab": {
          "base_uri": "https://localhost:8080/",
          "height": 295
        },
        "id": "kPB2KZjSuFbb",
        "outputId": "ebe31e10-7859-47ff-8fc3-7493b4a2d79d"
      },
      "execution_count": 25,
      "outputs": [
        {
          "output_type": "display_data",
          "data": {
            "text/plain": [
              "<Figure size 432x288 with 1 Axes>"
            ],
            "image/png": "[encoded data removed]"
          },
          "metadata": {}
        }
      ]
    },
    {
      "cell_type": "code",
      "source": [
        "plt.plot(history.history['accuracy'])\n",
        "#plt.plot(history.history['loss'])\n",
        "plt.title('model accuracy')\n",
        "plt.ylabel('accuracy')\n",
        "plt.xlabel('epoch')\n",
        "#plt.legend(['train', 'test'], loc='upper left')\n",
        "plt.show()\n"
      ],
      "metadata": {
        "colab": {
          "base_uri": "https://localhost:8080/",
          "height": 295
        },
        "id": "RxwFUcnGt9Br",
        "outputId": "00e930b6-9acd-4c73-f3e2-2dda33a633ce"
      },
      "execution_count": 26,
      "outputs": [
        {
          "output_type": "display_data",
          "data": {
            "text/plain": [
              "<Figure size 432x288 with 1 Axes>"
            ],
            "image/png": "[encoded data removed]"
          },
          "metadata": {}
        }
      ]
    },
    {
      "cell_type": "code",
      "source": [],
      "metadata": {
        "id": "eOhYywTNt82A"
      },
      "execution_count": null,
      "outputs": []
    },
    {
      "cell_type": "markdown",
      "source": [
        "### Now let us define some helper functions, which we will use to preprocess this data.These functions are essentially doing the same work for cleaning and preprocessing data"
      ],
      "metadata": {
        "id": "ieyu2Bu7Dcji"
      }
    },
    {
      "cell_type": "code",
      "source": [
        "def my_pipeline(text):\n",
        "    text_new = preProcess_data(text)\n",
        "    X = tokenizer.texts_to_sequences(pd.Series(text_new).values)\n",
        "    X = pad_sequences(X, maxlen=28)\n",
        "    return X"
      ],
      "metadata": {
        "id": "w1yl04eid4AH"
      },
      "execution_count": 47,
      "outputs": []
    },
    {
      "cell_type": "markdown",
      "source": [
        "#### We pass our text to the pipeline function so that it can return the cleaned and preprocessed data, which we can feed to our loaded model and get the predictions. \n",
        "\n",
        "#### We can get the index of highest predictions using the argmax function from numpy. We can pick the maximum probability using the max function from Python"
      ],
      "metadata": {
        "id": "NV9KxMPIDwWW"
      }
    },
    {
      "cell_type": "code",
      "source": [
        "import tensorflow as tf\n",
        "def predict(text):\n",
        "    clean_text = my_pipeline(text)   \n",
        "    \n",
        "    #clean, and preprocess the text through pipeline\n",
        "    loaded_model = tf.keras.models.load_model('intent.h5') \n",
        "    \n",
        "    #load the saved model \n",
        "    predictions = loaded_model.predict(clean_text) \n",
        "    \n",
        "    #predict the text\n",
        "    sentiment = int(np.argmax(predictions)) \n",
        "    \n",
        "    #calculate the index of max sentiment\n",
        "    probability = max(predictions.tolist()[0]) \n",
        "    \n",
        "    #calulate the probability\n",
        "    if sentiment==0:\n",
        "         t_sentiment = 'Appreciation' \n",
        "         \n",
        "         #set appropriate sentiment\n",
        "    elif sentiment==1:\n",
        "         t_sentiment = 'community'\n",
        "\n",
        "    elif sentiment==2:\n",
        "         t_sentiment='done'\n",
        "    elif sentiment==3:\n",
        "\n",
        "         t_sentiment='Giveaway'\n",
        "\n",
        "    elif sentiment==4:\n",
        "         t_sentiment='Interested'\n",
        "\n",
        "    elif sentiment==5:\n",
        "         t_sentiment='Launching Soon'\n",
        "\n",
        "    elif sentiment==6:\n",
        "         t_sentiment='PinkSale'\n",
        "\n",
        "    elif sentiment==7:\n",
        "         t_sentiment=' PreSale'\n",
        "\n",
        "    elif sentiment==8:\n",
        "         t_sentiment='Whitelist'\n",
        "\n",
        "\n",
        "    return { \n",
        "        \n",
        "         #return the dictionary for endpoint\n",
        "         \"ACTUALL SENTENCE\": text,\n",
        "         \"PREDICTED SENTIMENT\": t_sentiment,\n",
        "         \"Probability\": probability\n",
        "    }"
      ],
      "metadata": {
        "id": "zahwBK7fd9-2"
      },
      "execution_count": 48,
      "outputs": []
    },
    {
      "cell_type": "markdown",
      "source": [
        "#### Here are some prediction "
      ],
      "metadata": {
        "id": "LCnkgGk4D4pJ"
      }
    },
    {
      "cell_type": "code",
      "source": [
        "predict(\"he entire 1-of-1 collection is done and ready to mint! stay tuned for the reveal tomorrow morning! ðŸ¥³ðŸ¥³ðŸ¥³ #NFT #axodoodles\")"
      ],
      "metadata": {
        "colab": {
          "base_uri": "https://localhost:8080/"
        },
        "id": "LRbJ5IxWelpc",
        "outputId": "6a847d01-3ff8-4656-ab92-8b02127cf607"
      },
      "execution_count": 49,
      "outputs": [
        {
          "output_type": "execute_result",
          "data": {
            "text/plain": [
              "{'ACTUALL SENTENCE': 'he entire 1-of-1 collection is done and ready to mint! stay tuned for the reveal tomorrow morning! ðŸ¥³ðŸ¥³ðŸ¥³ #NFT #axodoodles',\n",
              " 'PREDICTED SENTIMENT': 'done',\n",
              " 'Probability': 0.9492520689964294}"
            ]
          },
          "metadata": {},
          "execution_count": 49
        }
      ]
    },
    {
      "cell_type": "code",
      "source": [
        "predict(\"@ClassicSamurais PROJECT 21 - THE BEST GAMEFI PROJECT ON BSC\")"
      ],
      "metadata": {
        "colab": {
          "base_uri": "https://localhost:8080/"
        },
        "id": "cURPsv5EzYig",
        "outputId": "e47faca9-28f1-4d0b-90d0-ee5dab264d09"
      },
      "execution_count": 50,
      "outputs": [
        {
          "output_type": "execute_result",
          "data": {
            "text/plain": [
              "{'ACTUALL SENTENCE': '@ClassicSamurais PROJECT 21 - THE BEST GAMEFI PROJECT ON BSC',\n",
              " 'PREDICTED SENTIMENT': 'Appreciation',\n",
              " 'Probability': 0.5726500153541565}"
            ]
          },
          "metadata": {},
          "execution_count": 50
        }
      ]
    },
    {
      "cell_type": "code",
      "source": [
        "predict(\"Look what I found! Face #092 collectible https://t.co/jaLQgrWRbz #rarible #ethereum \")"
      ],
      "metadata": {
        "colab": {
          "base_uri": "https://localhost:8080/"
        },
        "id": "skqrxqJPztl8",
        "outputId": "ca4dbdd6-07d1-483a-cf15-286848021ea3"
      },
      "execution_count": 51,
      "outputs": [
        {
          "output_type": "execute_result",
          "data": {
            "text/plain": [
              "{'ACTUALL SENTENCE': 'Look what I found! Face #092 collectible https://t.co/jaLQgrWRbz #rarible #ethereum ',\n",
              " 'PREDICTED SENTIMENT': ' PreSale',\n",
              " 'Probability': 0.5519793033599854}"
            ]
          },
          "metadata": {},
          "execution_count": 51
        }
      ]
    },
    {
      "cell_type": "code",
      "source": [
        "predict(\"love it ðŸ˜ dm me  @nft__community_ https://t.co/Qtr50dIsza\")"
      ],
      "metadata": {
        "colab": {
          "base_uri": "https://localhost:8080/"
        },
        "id": "kv6NH8W7z2Gx",
        "outputId": "5185f6e6-75dd-4d63-c83f-c18fd79575d6"
      },
      "execution_count": 52,
      "outputs": [
        {
          "output_type": "execute_result",
          "data": {
            "text/plain": [
              "{'ACTUALL SENTENCE': 'love it ðŸ˜\\x8d dm me  @nft__community_ https://t.co/Qtr50dIsza',\n",
              " 'PREDICTED SENTIMENT': 'community',\n",
              " 'Probability': 0.9946784973144531}"
            ]
          },
          "metadata": {},
          "execution_count": 52
        }
      ]
    },
    {
      "cell_type": "code",
      "source": [
        "predict(\"@Waxel_NFT @taurenmeister @peachs303 @Rustytheredpan2 Thank you so much. More power to you guys! Continue the great project. So really cute artworks. Love it. â™¥\")"
      ],
      "metadata": {
        "colab": {
          "base_uri": "https://localhost:8080/"
        },
        "id": "CLtuEHwj0BjF",
        "outputId": "caa1579e-9723-4200-b421-f6de9c39a094"
      },
      "execution_count": 53,
      "outputs": [
        {
          "output_type": "execute_result",
          "data": {
            "text/plain": [
              "{'ACTUALL SENTENCE': '@Waxel_NFT @taurenmeister @peachs303 @Rustytheredpan2 Thank you so much. More power to you guys! Continue the great project. So really cute artworks. Love it. â™¥',\n",
              " 'PREDICTED SENTIMENT': 'Appreciation',\n",
              " 'Probability': 0.9213311672210693}"
            ]
          },
          "metadata": {},
          "execution_count": 53
        }
      ]
    },
    {
      "cell_type": "code",
      "source": [
        "predict(\"Just registered for the @HarakaiNFT raffle! Free mint and SUPER LOW SUPPLY! #FreeMint via @PREMINT_NFT https://t.co/BjJkmCKYHL\")"
      ],
      "metadata": {
        "colab": {
          "base_uri": "https://localhost:8080/"
        },
        "id": "rOiRtatc0Zxn",
        "outputId": "d964ec96-4ce6-42bc-f672-b32049c2a4b1"
      },
      "execution_count": 54,
      "outputs": [
        {
          "output_type": "execute_result",
          "data": {
            "text/plain": [
              "{'ACTUALL SENTENCE': 'Just registered for the @HarakaiNFT raffle! Free mint and SUPER LOW SUPPLY! #FreeMint via @PREMINT_NFT https://t.co/BjJkmCKYHL',\n",
              " 'PREDICTED SENTIMENT': 'PinkSale',\n",
              " 'Probability': 0.9933279752731323}"
            ]
          },
          "metadata": {},
          "execution_count": 54
        }
      ]
    },
    {
      "cell_type": "code",
      "source": [
        "predict('@mtnDAO PROJECT 21 - THE BEST GAMEFI PROJECT ON BSC âœ…Multistage deflation tool - PRO21 âœ…Multi-feature NFT âœ…App on AppStore and Google Play âœ…Presale in August. $P21 IS GOING TO THE MOON!Whitelist: https://t.co/rmc1cLo7mh TG: https://t.co/Gk1GFSZEX9 #Project21 #P21 #Gamefi')\n",
        "\n",
        "\n"
      ],
      "metadata": {
        "colab": {
          "base_uri": "https://localhost:8080/"
        },
        "id": "T0mWcY9-48mK",
        "outputId": "a93b33fb-aa95-4f03-fcb7-f26aafb2f36c"
      },
      "execution_count": 55,
      "outputs": [
        {
          "output_type": "execute_result",
          "data": {
            "text/plain": [
              "{'ACTUALL SENTENCE': '@mtnDAO PROJECT 21 - THE BEST GAMEFI PROJECT ON BSC âœ…Multistage deflation tool - PRO21 âœ…Multi-feature NFT âœ…App on AppStore and Google Play âœ…Presale in August. $P21 IS GOING TO THE MOON!Whitelist: https://t.co/rmc1cLo7mh TG: https://t.co/Gk1GFSZEX9 #Project21 #P21 #Gamefi',\n",
              " 'PREDICTED SENTIMENT': ' PreSale',\n",
              " 'Probability': 0.9994971752166748}"
            ]
          },
          "metadata": {},
          "execution_count": 55
        }
      ]
    },
    {
      "cell_type": "code",
      "source": [
        "predict(\"@CryptoBatzNFT @DarekBTW The first project in crypto with move to earn  #AstroBirdz. Big things happening with this project with release of marketplace and  #NEST.\")"
      ],
      "metadata": {
        "colab": {
          "base_uri": "https://localhost:8080/"
        },
        "id": "0XVISD2C0pES",
        "outputId": "46e19c63-d874-4b96-8aab-53a66d83099a"
      },
      "execution_count": 56,
      "outputs": [
        {
          "output_type": "execute_result",
          "data": {
            "text/plain": [
              "{'ACTUALL SENTENCE': '@CryptoBatzNFT @DarekBTW The first project in crypto with move to earn  #AstroBirdz. Big things happening with this project with release of marketplace and  #NEST.',\n",
              " 'PREDICTED SENTIMENT': 'community',\n",
              " 'Probability': 0.45536696910858154}"
            ]
          },
          "metadata": {},
          "execution_count": 56
        }
      ]
    },
    {
      "cell_type": "code",
      "source": [
        "predict('Need Sick Character artâ“#art #artist #Artists #animation #illustrators #illustrations #illustrationart #NFT #NFTGiveaways #3Danimation #3dart #conceptart #Concept #illustrators #SolanaNFTs #ArtistOnTwitter @ScrimFinder @BlazedRTs @SGH_RTs @smallstreamhype @ShoutGamers https://t.co/Nf3Egckt78')"
      ],
      "metadata": {
        "colab": {
          "base_uri": "https://localhost:8080/"
        },
        "id": "DtaAK0VY4epr",
        "outputId": "0fad44a7-5a64-4ab1-d7af-d31f7db640b1"
      },
      "execution_count": 57,
      "outputs": [
        {
          "output_type": "execute_result",
          "data": {
            "text/plain": [
              "{'ACTUALL SENTENCE': 'Need Sick Character artâ\\x9d“#art #artist #Artists #animation #illustrators #illustrations #illustrationart #NFT #NFTGiveaways #3Danimation #3dart #conceptart #Concept #illustrators #SolanaNFTs #ArtistOnTwitter @ScrimFinder @BlazedRTs @SGH_RTs @smallstreamhype @ShoutGamers https://t.co/Nf3Egckt78',\n",
              " 'PREDICTED SENTIMENT': 'Giveaway',\n",
              " 'Probability': 0.9999880790710449}"
            ]
          },
          "metadata": {},
          "execution_count": 57
        }
      ]
    },
    {
      "cell_type": "code",
      "source": [
        "predict('ðŸŽ‰ Just registered for the saphire on @PREMINT_NFT! https://t.co/lNIXaPFL4j')"
      ],
      "metadata": {
        "colab": {
          "base_uri": "https://localhost:8080/"
        },
        "id": "j4aQfBcB4rEt",
        "outputId": "ed96e401-4120-4ebd-ffbf-a4000d2089c1"
      },
      "execution_count": 58,
      "outputs": [
        {
          "output_type": "execute_result",
          "data": {
            "text/plain": [
              "{'ACTUALL SENTENCE': 'ðŸŽ‰ Just registered for the saphire on @PREMINT_NFT! https://t.co/lNIXaPFL4j',\n",
              " 'PREDICTED SENTIMENT': 'PinkSale',\n",
              " 'Probability': 0.9897081851959229}"
            ]
          },
          "metadata": {},
          "execution_count": 58
        }
      ]
    },
    {
      "cell_type": "code",
      "source": [
        "predict('twitter list: from the wipeout of cryptocurrencies and plunge in nft token values, one thing is clear about celebrity endorsements: itâ€™s been a disaster for fans.here are the celebrities .. https://t.co/Pa4f3cUluZ')"
      ],
      "metadata": {
        "colab": {
          "base_uri": "https://localhost:8080/"
        },
        "id": "cCAhYytm41Ad",
        "outputId": "468a8475-cccb-48d2-a904-2cc0b3a8313f"
      },
      "execution_count": 59,
      "outputs": [
        {
          "output_type": "execute_result",
          "data": {
            "text/plain": [
              "{'ACTUALL SENTENCE': 'twitter list: from the wipeout of cryptocurrencies and plunge in nft token values, one thing is clear about celebrity endorsements: itâ€™s been a disaster for fans.here are the celebrities .. https://t.co/Pa4f3cUluZ',\n",
              " 'PREDICTED SENTIMENT': 'Appreciation',\n",
              " 'Probability': 0.7123122215270996}"
            ]
          },
          "metadata": {},
          "execution_count": 59
        }
      ]
    },
    {
      "cell_type": "code",
      "source": [
        "predict(\"1 Traded Collection (Last 15min):Life's A Joke NFT OfficialSales: 68Unique Buyers: 54Avg Price: 0.04 ÎžLink: https://t.co/N5WEmMPCMP#opensea #OpenSeaNFT #NFT #nftcollectors\")"
      ],
      "metadata": {
        "colab": {
          "base_uri": "https://localhost:8080/"
        },
        "id": "68O8-aAsMUlR",
        "outputId": "46fa71f4-8055-4053-9994-e07422ff6dcc"
      },
      "execution_count": 60,
      "outputs": [
        {
          "output_type": "execute_result",
          "data": {
            "text/plain": [
              "{'ACTUALL SENTENCE': \"1 Traded Collection (Last 15min):Life's A Joke NFT OfficialSales: 68Unique Buyers: 54Avg Price: 0.04 ÎžLink: https://t.co/N5WEmMPCMP#opensea #OpenSeaNFT #NFT #nftcollectors\",\n",
              " 'PREDICTED SENTIMENT': ' PreSale',\n",
              " 'Probability': 0.7292028665542603}"
            ]
          },
          "metadata": {},
          "execution_count": 60
        }
      ]
    },
    {
      "cell_type": "code",
      "source": [
        "predict(\"Your art is very uniqueðŸ”¥#NFT #NFTCommuntiy #nftartiÌ‡st https://t.co/Jegq6a5AtB\")"
      ],
      "metadata": {
        "colab": {
          "base_uri": "https://localhost:8080/"
        },
        "id": "hsjtiEi4Mpz0",
        "outputId": "ef915d34-d1cf-469e-aa92-4ef8e5b39d76"
      },
      "execution_count": 61,
      "outputs": [
        {
          "output_type": "execute_result",
          "data": {
            "text/plain": [
              "{'ACTUALL SENTENCE': 'Your art is very uniqueðŸ”¥#NFT #NFTCommuntiy #nftartiÌ‡st https://t.co/Jegq6a5AtB',\n",
              " 'PREDICTED SENTIMENT': ' PreSale',\n",
              " 'Probability': 0.37199991941452026}"
            ]
          },
          "metadata": {},
          "execution_count": 61
        }
      ]
    },
    {
      "cell_type": "code",
      "source": [],
      "metadata": {
        "id": "qF1gBjGSM2Hb"
      },
      "execution_count": 61,
      "outputs": []
    }
  ]
}